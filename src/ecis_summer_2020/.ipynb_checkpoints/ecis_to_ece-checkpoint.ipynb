{
 "cells": [
  {
   "cell_type": "code",
   "execution_count": 2,
   "metadata": {},
   "outputs": [],
   "source": [
    "%load_ext autoreload\n",
    "%autoreload 2"
   ]
  },
  {
   "cell_type": "code",
   "execution_count": 1,
   "metadata": {},
   "outputs": [],
   "source": [
    "import pandas as pd\n",
    "import numpy as np\n",
    "from conversion import ECIS_SUMMER_2020, ALL_SITE_FILE, \\\n",
    "    COLUMN_MAPPING_ECIS_ECE, ECE_COLUMNS, RACE_COLS, EXIT_REASONS, FUNDING_TYPE, SPACE_TYPE_LOOKUP, get_age_group"
   ]
  },
  {
   "cell_type": "code",
   "execution_count": 4,
   "metadata": {},
   "outputs": [],
   "source": [
    "summer_df = pd.read_csv(ECIS_SUMMER_2020,sep='\\t', dtype={'ZipCode':'str','AssignedFacilityCode':'str'})\n",
    "summer_df = summer_df.rename(columns=COLUMN_MAPPING_ECIS_ECE)"
   ]
  },
  {
   "cell_type": "code",
   "execution_count": 5,
   "metadata": {},
   "outputs": [],
   "source": [
    "# Drop funding types that aren't in the new ECE system\n",
    "FUNDING_TYPES_TO_DROP = ['PDG-Federal','Private Pay','Head Start/Early Head Start']\n",
    "summer_df = summer_df[~summer_df['Funding type'].isin(FUNDING_TYPES_TO_DROP)]"
   ]
  },
  {
   "cell_type": "raw",
   "metadata": {},
   "source": [
    "ECE Columns\n",
    "\n",
    "First name - Copy\n",
    "(OPTIONAL) Middle name - Copy\n",
    "Last name - Copy\n",
    "(OPTIONAL) Suffix - Copy\n",
    "(OPTIONAL) SASID / unique identifier - Copy\n",
    "Date of birth - Done\n",
    "(OPTIONAL) Birth certificate type - Not included\n",
    "(OPTIONAL) Birth certificate ID # - None in file\n",
    "(OPTIONAL) Town of birth - None in file\n",
    "(OPTIONAL) State of birth - None in file\n",
    "Race: American Indian or Alaska Native - Copy\n",
    "Race: Asian - Copy\n",
    "Race: Black or African American - Copy\n",
    "Race: Native Hawaiian or Pacific Islander - Copy\n",
    "Race: white - Copy\n",
    "Race not disclosed - Calculated\n",
    "Hispanic or Latinx ethnicity - Calculated \n",
    "Gender - Calculated\n",
    "(OPTIONAL) Dual language learner - Not in file\n",
    "(OPTIONAL) Receiving disability and/or special education services - Calculated from has IEP\n",
    "Street address - Calculated\n",
    "Town - Copy\n",
    "State - Copy\n",
    "Zipcode - Copy (loaded as string)\n",
    "(OPTIONAL) Lives with foster family - Calculated\n",
    "(OPTIONAL) Experiencing homelessness or housing insecurity - Not in file\n",
    "Household size - Filled na number with ''\n",
    "Annual household income - Filled na number with '' \n",
    "Determination date - Filled na number with ''  \n",
    "Provider - Uses our ID'd provider for sites in our system\n",
    "Site - Name of the site in our system, joined off facility ID\n",
    "(OPTIONAL) Care model - Not in file\n",
    "Age group - Calculated from funding and space type\n",
    "Enrollment start date - Converted to String (potentially better data in ECIS)\n",
    "Enrollment end date - Converted to String\n",
    "Enrollment exit reason - Replacement\n",
    "Funding type - Mapping, missing (Head Start/Early Head Start, Private Pay, PDG-Federal)\n",
    "Space type - Calculated from funding and space type\n",
    "First funding period - Converted to str\n",
    "Last funding period - Converted to str"
   ]
  },
  {
   "cell_type": "code",
   "execution_count": null,
   "metadata": {},
   "outputs": [],
   "source": [
    "Aged out, \n",
    "Moved within program, \n",
    "Stopped attending, \n",
    "Chose to attend a \n",
    "different program,  \n",
    "Moved within \n",
    "Connecticut, Moved to \n",
    "another state, \n",
    "Withdrew due to lack \n",
    "of payment, Child was \n",
    "asked to leave, \n",
    "Unknown "
   ]
  },
  {
   "cell_type": "code",
   "execution_count": 6,
   "metadata": {},
   "outputs": [],
   "source": [
    "summer_df['Race not disclosed'] = ~summer_df[RACE_COLS].replace({'Y':True,'N':False}).any(axis=1)\n",
    "summer_df['Hispanic or Latinx ethnicity'].fillna('Not collected', inplace=True)\n",
    "summer_df['Gender'].fillna('Not Specified', inplace=True)\n",
    "summer_df['Receiving disability and/or special education services'].fillna('Not collected', inplace=True)\n",
    "summer_df['Street address'] = summer_df['StreetAddress1'] + summer_df['StreetAddress2'].fillna('')\n",
    "summer_df['Lives with foster family'] = summer_df['WhoChildResidesWith'] == 'Foster Parent'\n",
    "summer_df['Enrollment exit reason'].fillna('',inplace=True)\n",
    "summer_df['Enrollment exit reason'].replace(EXIT_REASONS, inplace=True)\n",
    "summer_df['Funding type'].replace(FUNDING_TYPE, inplace=True)\n",
    "\n",
    "\n",
    "# Calculate Space type and age group\n",
    "summer_df['funding_and_space_type'] = (summer_df['Funding type'] + ' || ' + summer_df['SpaceType'])\n",
    "summer_df['Space type'] = summer_df['funding_and_space_type'].replace(SPACE_TYPE_LOOKUP)\n",
    "summer_df['Age group'] = summer_df['funding_and_space_type'].apply(get_age_group)"
   ]
  },
  {
   "cell_type": "code",
   "execution_count": 7,
   "metadata": {},
   "outputs": [],
   "source": [
    "numeric_cols = ['Household size', 'Annual household income', 'Determination date']\n",
    "for col in numeric_cols:\n",
    "    summer_df[col].fillna('', inplace=True)"
   ]
  },
  {
   "cell_type": "code",
   "execution_count": 8,
   "metadata": {},
   "outputs": [],
   "source": [
    "date_cols = ['First funding period', 'Last funding period','Enrollment start date','Enrollment end date']\n",
    "for col in date_cols:\n",
    "    summer_df[col] = pd.to_datetime(summer_df[col]).dt.strftime('%m/%d/%Y')"
   ]
  },
  {
   "cell_type": "code",
   "execution_count": 9,
   "metadata": {},
   "outputs": [],
   "source": [
    "summer_df['Care model'] = 'Unknown'"
   ]
  },
  {
   "cell_type": "code",
   "execution_count": 10,
   "metadata": {},
   "outputs": [],
   "source": [
    "all_sites_df = pd.read_csv(ALL_SITE_FILE)\n",
    "summer_df = summer_df.merge(all_sites_df, how='left', left_on='AssignedFacilityCode', right_on='Facility Code')"
   ]
  },
  {
   "cell_type": "code",
   "execution_count": 11,
   "metadata": {},
   "outputs": [],
   "source": [
    "# 12 sites don't exist in our current set of sites with the ECIS IDs, this fills in the best guess for organization\n",
    "# A new site may need to be added\n",
    "site_to_org_mapping = {'Lulac': 'City of New Haven',\n",
    "                       'Saint Aedan Elementary School':'Catholic Academy of New Haven-St. Aedan Pre School',\n",
    "                       'Hospital for Special Care':'Hospital for Special Care',\n",
    "                       'Bright and Early Children Learning Center':\"Bright and Early Children's Learning Centers I\",\n",
    "                       'Gallup Hill School':'Gallup Hill School',\n",
    "                       'Early Childhood - CT Office of':'Early Childhood - CT Office of',\n",
    "                       'Alice Peck Learning Center':'Hamden BOE',\n",
    "                       'TVCCA Groton ECE':'Thames Valley Council for Comm. Action TVCCA)',\n",
    "                       'Hockanum Pre-K':'East Hartford BOE',\n",
    "                       'WCSU Child Care Center':'WCSU Child Care Center',\n",
    "                       'Colchester Early Childhood':'Colchester BOE',\n",
    "                       'Precious Memories lll':'Precious Memories Early Childhood Learning Center'                       \n",
    "                      }\n",
    "summer_df['Provider'] = summer_df['Parent Org'].fillna(summer_df['AssignedFacilityName']).replace(site_to_org_mapping)\n",
    "# Use canonical site names where they exist, ie. all but the above 12 sites\n",
    "summer_df['Site'] = summer_df['Site Name'].fillna(summer_df['AssignedFacilityName'])"
   ]
  },
  {
   "cell_type": "code",
   "execution_count": 20,
   "metadata": {},
   "outputs": [],
   "source": [
    "missing_ece_columns = ['Dual language learner', 'Experiencing homelessness or housing insecurity', 'Birth certificate type']\n",
    "\n",
    "final_df = summer_df[[x for x in ECE_COLUMNS if x not in missing_ece_columns]].sort_values(['Provider','Site'])\n",
    "final_df.to_csv('data/student_data.csv', index=False)"
   ]
  },
  {
   "cell_type": "markdown",
   "metadata": {},
   "source": [
    "## Data checks"
   ]
  },
  {
   "cell_type": "code",
   "execution_count": 38,
   "metadata": {},
   "outputs": [
    {
     "data": {
      "text/plain": [
       "array(['N', 'Y'], dtype=object)"
      ]
     },
     "execution_count": 38,
     "metadata": {},
     "output_type": "execute_result"
    }
   ],
   "source": [
    "pd.unique(summer_df[RACE_COLS].values.ravel())"
   ]
  },
  {
   "cell_type": "code",
   "execution_count": null,
   "metadata": {},
   "outputs": [],
   "source": [
    "null_race\n",
    "street_address\n",
    "foster_family\n",
    "funding_start\n",
    "funding_end\n",
    "site\n",
    "provider\n",
    "enrollment_start\n",
    "enrollment_end\n",
    "space_type"
   ]
  }
 ],
 "metadata": {
  "kernelspec": {
   "display_name": "Python 3",
   "language": "python",
   "name": "python3"
  },
  "language_info": {
   "codemirror_mode": {
    "name": "ipython",
    "version": 3
   },
   "file_extension": ".py",
   "mimetype": "text/x-python",
   "name": "python",
   "nbconvert_exporter": "python",
   "pygments_lexer": "ipython3",
   "version": "3.6.8"
  }
 },
 "nbformat": 4,
 "nbformat_minor": 2
}
