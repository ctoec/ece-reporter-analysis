{
 "cells": [
  {
   "cell_type": "code",
   "execution_count": 1,
   "metadata": {},
   "outputs": [],
   "source": [
    "%load_ext autoreload\n",
    "%autoreload 2"
   ]
  },
  {
   "cell_type": "code",
   "execution_count": 136,
   "metadata": {},
   "outputs": [],
   "source": [
    "import pandas as pd\n",
    "import numpy as np\n",
    "from conversion import ECIS_SUMMER_2020, ALL_SITE_FILE, COLUMN_MAPPING_ECIS_ECE, ECE_COLUMNS, RACE_COLS, EXIT_REASONS"
   ]
  },
  {
   "cell_type": "code",
   "execution_count": 138,
   "metadata": {},
   "outputs": [],
   "source": [
    "summer_df = pd.read_csv(ECIS_SUMMER_2020,sep='\\t', dtype={'ZipCode':'str'})\n",
    "summer_df = summer_df.rename(columns=COLUMN_MAPPING_ECIS_ECE)"
   ]
  },
  {
   "cell_type": "code",
   "execution_count": 95,
   "metadata": {},
   "outputs": [
    {
     "data": {
      "text/plain": [
       "If SFY21                                                     0\n",
       "EnrollmentId                                                 0\n",
       "AssignedFacilityCode                                         0\n",
       "AssignedFacilityName                                         0\n",
       "SASID / unique identifier                                    0\n",
       "Last Name                                                 5545\n",
       "First Name                                                5545\n",
       "Middle Name                                               6864\n",
       "Suffix                                                    8075\n",
       "Date of birth                                                0\n",
       "Gender                                                    5841\n",
       "State of birth                                            8075\n",
       "Town of birth                                             8075\n",
       "ParentsMaidenName                                         8075\n",
       "MmrVaccinationDate                                        8075\n",
       "Birth certificate ID #                                    8075\n",
       "Hispanic or Latinx ethnicity                               630\n",
       "Race: American Indian or Alaska Native                       0\n",
       "Race: Asian                                                  0\n",
       "Race: Black or African American                              0\n",
       "Race: Native Hawaiian or Pacific Islander                    0\n",
       "Race: white                                                  0\n",
       "WhoChildResidesWith                                       2765\n",
       "AptStreetNumber                                           2764\n",
       "StreetAddress1                                            2764\n",
       "StreetAddress2                                            6532\n",
       "Town                                                      2764\n",
       "State                                                     2764\n",
       "Zipcode                                                   2767\n",
       "Household size                                            3645\n",
       "Annual household income                                   3796\n",
       "Determination date                                        3844\n",
       "IncomeNotDisclosed                                        7935\n",
       "Receiving disability and/or special education services    8004\n",
       "IEPStartDate                                              8014\n",
       "TransportationProvided                                    8042\n",
       "FacilityGroupName                                         8075\n",
       "FacilityEntryDate                                            0\n",
       "Enrollment end date                                       6055\n",
       "ExitCategory                                              6055\n",
       "ExitCategoryCode                                          6055\n",
       "ExitReason                                                6059\n",
       "ExitReasonCode                                            6059\n",
       "Funding type                                                 0\n",
       "FundingTypeCode                                              0\n",
       "Space type                                                   0\n",
       "SpaceTypeCode                                                0\n",
       "First funding period                                         0\n",
       "Last funding period                                       5955\n",
       "HsEhsa                                                       5\n",
       "HsEhsaCode                                                   5\n",
       "Oec                                                          0\n",
       "Care4Kids                                                    0\n",
       "NoAdditionalFunding                                          0\n",
       "DateCreated                                                  0\n",
       "LastUpdate                                                   0\n",
       "dtype: int64"
      ]
     },
     "execution_count": 95,
     "metadata": {},
     "output_type": "execute_result"
    }
   ],
   "source": [
    "summer_df.isnull().sum()"
   ]
  },
  {
   "cell_type": "code",
   "execution_count": 12,
   "metadata": {},
   "outputs": [
    {
     "data": {
      "text/plain": [
       "['If SFY21',\n",
       " 'EnrollmentId',\n",
       " 'AssignedFacilityCode',\n",
       " 'AssignedFacilityName',\n",
       " 'SASID / unique identifier',\n",
       " 'Last Name',\n",
       " 'First Name',\n",
       " 'Middle Name',\n",
       " 'Suffix',\n",
       " 'Date of birth',\n",
       " 'Gender',\n",
       " 'State of birth',\n",
       " 'Town of birth',\n",
       " 'ParentsMaidenName',\n",
       " 'MmrVaccinationDate',\n",
       " 'Birth certificate ID #',\n",
       " 'Hispanic or Latinx ethnicity',\n",
       " 'Race: American Indian or Alaska Native',\n",
       " 'Race: Asian',\n",
       " 'Race: Black or African American',\n",
       " 'Race: Native Hawaiian or Pacific Islander',\n",
       " 'Race: white',\n",
       " 'WhoChildResidesWith',\n",
       " 'AptStreetNumber',\n",
       " 'StreetAddress1',\n",
       " 'StreetAddress2',\n",
       " 'Town',\n",
       " 'State',\n",
       " 'Zipcode',\n",
       " 'Household size',\n",
       " 'Annual household income',\n",
       " 'Determination date',\n",
       " 'IncomeNotDisclosed',\n",
       " 'Receiving disability and/or special education services',\n",
       " 'IEPStartDate',\n",
       " 'TransportationProvided',\n",
       " 'FacilityGroupName',\n",
       " 'FacilityEntryDate',\n",
       " 'FacilityExitDate',\n",
       " 'ExitCategory',\n",
       " 'ExitCategoryCode',\n",
       " 'ExitReason',\n",
       " 'ExitReasonCode',\n",
       " 'Funding type',\n",
       " 'FundingTypeCode',\n",
       " 'Space type',\n",
       " 'SpaceTypeCode',\n",
       " 'FundingStartDate',\n",
       " 'FundingEndDate',\n",
       " 'HsEhsa',\n",
       " 'HsEhsaCode',\n",
       " 'Oec',\n",
       " 'Care4Kids',\n",
       " 'NoAdditionalFunding',\n",
       " 'DateCreated',\n",
       " 'LastUpdate']"
      ]
     },
     "execution_count": 12,
     "metadata": {},
     "output_type": "execute_result"
    }
   ],
   "source": [
    "summer_df.columns"
   ]
  },
  {
   "cell_type": "raw",
   "metadata": {},
   "source": [
    "First name - Copy\n",
    "(OPTIONAL) Middle name - Copy\n",
    "Last name - Copy\n",
    "(OPTIONAL) Suffix - Copy\n",
    "(OPTIONAL) SASID / unique identifier - Copy\n",
    "Date of birth - Done\n",
    "(OPTIONAL) Birth certificate type - Not included\n",
    "(OPTIONAL) Birth certificate ID # - None in file\n",
    "(OPTIONAL) Town of birth - None in file\n",
    "(OPTIONAL) State of birth - None in file\n",
    "Race: American Indian or Alaska Native - Copy\n",
    "Race: Asian - Copy\n",
    "Race: Black or African American - Copy\n",
    "Race: Native Hawaiian or Pacific Islander - Copy\n",
    "Race: white - Copy\n",
    "Race not disclosed - Calculated\n",
    "Hispanic or Latinx ethnicity - Calculated \n",
    "Gender - Calculated\n",
    "(OPTIONAL) Dual language learner - Not in file\n",
    "(OPTIONAL) Receiving disability and/or special education services - Calculated\n",
    "Street address - Calculated\n",
    "Town - Copy\n",
    "State - Copy\n",
    "Zipcode - Copy (loaded as string)\n",
    "(OPTIONAL) Lives with foster family - Calculated\n",
    "(OPTIONAL) Experiencing homelessness or housing insecurity - Not in file\n",
    "Household size - Filled na number with ''\n",
    "Annual household income - Filled na number with '' \n",
    "Determination date - Filled na number with ''  \n",
    "Provider\n",
    "Site\n",
    "(OPTIONAL) Care model - Not in file\n",
    "Age group\n",
    "Enrollment start date - Converted to String (potentially better data in ECIS)\n",
    "Enrollment end date - Converted to String\n",
    "Enrollment exit reason - \n",
    "Funding type - Copy\n",
    "Space type - Copy\n",
    "First funding period - Converted to str\n",
    "Last funding period - Converted to str"
   ]
  },
  {
   "cell_type": "code",
   "execution_count": 141,
   "metadata": {},
   "outputs": [],
   "source": []
  },
  {
   "cell_type": "code",
   "execution_count": null,
   "metadata": {},
   "outputs": [],
   "source": [
    "Aged out, \n",
    "Moved within program, \n",
    "Stopped attending, \n",
    "Chose to attend a \n",
    "different program,  \n",
    "Moved within \n",
    "Connecticut, Moved to \n",
    "another state, \n",
    "Withdrew due to lack \n",
    "of payment, Child was \n",
    "asked to leave, \n",
    "Unknown "
   ]
  },
  {
   "cell_type": "code",
   "execution_count": 146,
   "metadata": {},
   "outputs": [],
   "source": [
    "summer_df['Race not disclosed'] = ~summer_df[RACE_COLS].replace({'Y':True,'N':False}).any(axis=1)\n",
    "summer_df['Hispanic or Latinx ethnicity'].fillna('Not collected', inplace=True)\n",
    "summer_df['Gender'].fillna('Not Specified', inplace=True)\n",
    "summer_df['Receiving disability and/or special education services'].fillna('Not collected', inplace=True)\n",
    "summer_df['Street address'] = summer_df['StreetAddress1'] + summer_df['StreetAddress2'].fillna('')\n",
    "summer_df['Lives with foster family'] = summer_df['WhoChildResidesWith'] == 'Foster Parent'\n",
    "summer_df['Enrollment exit reason'].fillna('',inplace=True)\n",
    "summer_df['Enrollment exit reason'].replace(EXIT_REASONS, inplace=True)"
   ]
  },
  {
   "cell_type": "code",
   "execution_count": 122,
   "metadata": {},
   "outputs": [],
   "source": [
    "numeric_cols = ['Household size', 'Annual household income', 'Determination date']\n",
    "for col in numeric_cols:\n",
    "    summer_df[col].fillna('', inplace=True)"
   ]
  },
  {
   "cell_type": "code",
   "execution_count": 126,
   "metadata": {},
   "outputs": [],
   "source": [
    "date_cols = ['First funding period', 'Last funding period','Enrollment start date','Enrollment end date']\n",
    "for col in date_cols:\n",
    "    summer_df[col] = pd.to_datetime(summer_df[col]).dt.strftime('%m/%d/%Y')"
   ]
  },
  {
   "cell_type": "code",
   "execution_count": 148,
   "metadata": {},
   "outputs": [],
   "source": [
    "summer_df['Care model'] = 'Unknown'"
   ]
  },
  {
   "cell_type": "markdown",
   "metadata": {},
   "source": [
    "## Data checks"
   ]
  },
  {
   "cell_type": "code",
   "execution_count": 38,
   "metadata": {},
   "outputs": [
    {
     "data": {
      "text/plain": [
       "array(['N', 'Y'], dtype=object)"
      ]
     },
     "execution_count": 38,
     "metadata": {},
     "output_type": "execute_result"
    }
   ],
   "source": [
    "pd.unique(summer_df[RACE_COLS].values.ravel())"
   ]
  },
  {
   "cell_type": "code",
   "execution_count": null,
   "metadata": {},
   "outputs": [],
   "source": [
    "null_race\n",
    "street_address\n",
    "foster_family\n",
    "funding_start\n",
    "funding_end\n",
    "site\n",
    "provider\n",
    "enrollment_start\n",
    "enrollment_end\n",
    "space_type"
   ]
  }
 ],
 "metadata": {
  "kernelspec": {
   "display_name": "Python 3",
   "language": "python",
   "name": "python3"
  },
  "language_info": {
   "codemirror_mode": {
    "name": "ipython",
    "version": 3
   },
   "file_extension": ".py",
   "mimetype": "text/x-python",
   "name": "python",
   "nbconvert_exporter": "python",
   "pygments_lexer": "ipython3",
   "version": "3.6.8"
  }
 },
 "nbformat": 4,
 "nbformat_minor": 2
}
