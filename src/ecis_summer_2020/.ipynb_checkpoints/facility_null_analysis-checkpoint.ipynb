{
 "cells": [
  {
   "cell_type": "code",
   "execution_count": 22,
   "metadata": {},
   "outputs": [
    {
     "name": "stdout",
     "output_type": "stream",
     "text": [
      "The autoreload extension is already loaded. To reload it, use:\n",
      "  %reload_ext autoreload\n"
     ]
    }
   ],
   "source": [
    "%load_ext autoreload\n",
    "%autoreload 2"
   ]
  },
  {
   "cell_type": "code",
   "execution_count": 35,
   "metadata": {},
   "outputs": [],
   "source": [
    "import pandas as pd\n",
    "import numpy as np\n",
    "import matplotlib.pyplot as plt\n",
    "from conversion import ECIS_SUMMER_2020, ALL_SITE_FILE, ECE_ORGS"
   ]
  },
  {
   "cell_type": "code",
   "execution_count": 24,
   "metadata": {},
   "outputs": [],
   "source": [
    "# Column Names\n",
    "NO_NAME_COL = 'is_missing_name'\n",
    "HAS_SASID = 'has_sasid'\n",
    "STUDENT_FACILITY_CODE = 'AssignedFacilityCode'\n",
    "SITE_FACILITY_CODE = 'Facility Code'\n",
    "ORG_NAME = 'Parent Org'\n",
    "SITE_NAME_FACILITY = 'AssignedFacilityName'"
   ]
  },
  {
   "cell_type": "code",
   "execution_count": 25,
   "metadata": {},
   "outputs": [],
   "source": [
    "# Load student data and drop names & DOB to prevent accidental commit of PII\n",
    "student_df = pd.read_csv(ECIS_SUMMER_2020, sep='\\t')\n",
    "PII_COLS = ['LastName','SASID','FirstName','MiddleName','Suffix','DateOfBirth','AptStreetNumber', 'StreetAddress1',\n",
    "       'StreetAddress2','BirthCertificateId','IEPStartDate','EnrollmentId']\n",
    "student_df[NO_NAME_COL] = student_df['LastName'].isna()\n",
    "# stud\n",
    "student_df.drop(PII_COLS, axis=1,inplace=True)"
   ]
  },
  {
   "cell_type": "code",
   "execution_count": 26,
   "metadata": {},
   "outputs": [
    {
     "data": {
      "text/plain": [
       "201"
      ]
     },
     "execution_count": 26,
     "metadata": {},
     "output_type": "execute_result"
    }
   ],
   "source": [
    "student_df[STUDENT_FACILITY_CODE].nunique()"
   ]
  },
  {
   "cell_type": "code",
   "execution_count": 27,
   "metadata": {},
   "outputs": [],
   "source": [
    "# Get site list with facility IDs\n",
    "facility_df = pd.read_csv(ALL_SITE_FILE, dtype={SITE_FACILITY_CODE:'Int64'})\n",
    "facility_df.dropna(subset=[SITE_FACILITY_CODE], axis=0, inplace=True)"
   ]
  },
  {
   "cell_type": "code",
   "execution_count": 28,
   "metadata": {},
   "outputs": [],
   "source": [
    "merged_df = student_df.merge(facility_df, how='left', left_on=STUDENT_FACILITY_CODE, right_on=SITE_FACILITY_CODE)\n",
    "merged_df[ORG_NAME].fillna(SITE_NAME_FACILITY, inplace=True)\n",
    "merged_df[SITE_NAME_FACILITY].fillna(SITE_NAME_FACILITY, inplace=True)"
   ]
  },
  {
   "cell_type": "code",
   "execution_count": 9,
   "metadata": {},
   "outputs": [
    {
     "data": {
      "text/plain": [
       "Index(['If SFY21', 'AssignedFacilityCode', 'AssignedFacilityName', 'Gender',\n",
       "       'StateOfBirth', 'TownOfBirth', 'ParentsMaidenName',\n",
       "       'MmrVaccinationDate', 'Ethnicity', 'AmericanIndianOrAlaskaNative',\n",
       "       'Asian', 'BlackOrAfricanAmerican',\n",
       "       'NativeHawaiianOrOtherPacificIslander', 'White', 'WhoChildResidesWith',\n",
       "       'Town', 'State', 'ZipCode', 'NumberOfPeopleInHousehold',\n",
       "       'AnnualFamilyIncome', 'DateFamilyIncomeDocumented',\n",
       "       'IncomeNotDisclosed', 'IEP', 'TransportationProvided',\n",
       "       'FacilityGroupName', 'FacilityEntryDate', 'FacilityExitDate',\n",
       "       'ExitCategory', 'ExitCategoryCode', 'ExitReason', 'ExitReasonCode',\n",
       "       'FundingType', 'FundingTypeCode', 'SpaceType', 'SpaceTypeCode',\n",
       "       'FundingStartDate', 'FundingEndDate', 'HsEhsa', 'HsEhsaCode', 'Oec',\n",
       "       'Care4Kids', 'NoAdditionalFunding', 'DateCreated', 'LastUpdate',\n",
       "       'is_missing_name', 'Site Name', 'Region', 'License ID', 'NAEYC ID',\n",
       "       'Registry ID', 'Facility Code', 'Parent Org', 'data_recieved'],\n",
       "      dtype='object')"
      ]
     },
     "execution_count": 9,
     "metadata": {},
     "output_type": "execute_result"
    }
   ],
   "source": [
    "merged_df.columns"
   ]
  },
  {
   "cell_type": "code",
   "execution_count": 10,
   "metadata": {},
   "outputs": [
    {
     "data": {
      "text/plain": [
       "2019-06     1\n",
       "2019-07     4\n",
       "2019-08     5\n",
       "2019-09    79\n",
       "2019-10     7\n",
       "2019-11     5\n",
       "2019-12     2\n",
       "2020-01     1\n",
       "2020-02     3\n",
       "2020-03     1\n",
       "2020-06     4\n",
       "2020-07     2\n",
       "2020-08     1\n",
       "2020-09    32\n",
       "2020-10     1\n",
       "Name: LastUpdate, dtype: int64"
      ]
     },
     "execution_count": 10,
     "metadata": {},
     "output_type": "execute_result"
    }
   ],
   "source": [
    "pd.to_datetime(merged_df.groupby(by=ORG_NAME)['LastUpdate'].max()).dt.strftime('%Y-%m').value_counts().sort_index()"
   ]
  },
  {
   "cell_type": "code",
   "execution_count": 29,
   "metadata": {},
   "outputs": [],
   "source": [
    "org_null_df = merged_df.groupby(by=ORG_NAME)[NO_NAME_COL].sum()\n",
    "site_null_df = merged_df.groupby(by=SITE_NAME_FACILITY)[NO_NAME_COL].sum()\n",
    "org_null_df.sort_values(ascending=False).to_csv('data/org_null_name.csv')\n",
    "site_null_df.sort_values(ascending=False).to_csv('data/site_null_name.csv')"
   ]
  },
  {
   "cell_type": "code",
   "execution_count": 43,
   "metadata": {},
   "outputs": [],
   "source": [
    "site_df = merged_df.groupby(by=[SITE_NAME_FACILITY, 'Facility Code'])[NO_NAME_COL].sum().reset_index()"
   ]
  },
  {
   "cell_type": "code",
   "execution_count": 74,
   "metadata": {},
   "outputs": [],
   "source": [
    "site_df = merged_df.groupby(by=[SITE_NAME_FACILITY, 'Facility Code']).agg({NO_NAME_COL: 'sum', 'Facility Code': 'count'})\n",
    "site_df = site_df.rename(columns={'Facility Code':'total_records'}).reset_index()"
   ]
  },
  {
   "cell_type": "code",
   "execution_count": 75,
   "metadata": {},
   "outputs": [],
   "source": [
    "ece_df = pd.read_csv(ECE_ORGS, dtype={'facilityCode':str, 'naeycId':str})"
   ]
  },
  {
   "cell_type": "code",
   "execution_count": 76,
   "metadata": {},
   "outputs": [],
   "source": [
    "site_df['Facility Code'] = site_df['Facility Code'].astype(str)"
   ]
  },
  {
   "cell_type": "code",
   "execution_count": 77,
   "metadata": {},
   "outputs": [],
   "source": [
    "site_df.merge(ece_df, how='left', left_on = 'Facility Code', right_on='facilityCode').to_csv('data/ecis_sites.csv', index=False)"
   ]
  },
  {
   "cell_type": "code",
   "execution_count": 12,
   "metadata": {},
   "outputs": [],
   "source": [
    "bins = [-1,0,10,20,30,40,50,100,150,200,500]"
   ]
  },
  {
   "cell_type": "code",
   "execution_count": 13,
   "metadata": {},
   "outputs": [
    {
     "data": {
      "text/plain": [
       "(-1, 0]        4\n",
       "(0, 10]       38\n",
       "(10, 20]      28\n",
       "(20, 30]      20\n",
       "(30, 40]      17\n",
       "(40, 50]      10\n",
       "(50, 100]     14\n",
       "(100, 150]     9\n",
       "(150, 200]     3\n",
       "(200, 500]     5\n",
       "Name: is_missing_name, dtype: int64"
      ]
     },
     "execution_count": 13,
     "metadata": {},
     "output_type": "execute_result"
    }
   ],
   "source": [
    "pd.cut(org_null_df,bins=bins).value_counts().sort_index()"
   ]
  },
  {
   "cell_type": "code",
   "execution_count": 14,
   "metadata": {},
   "outputs": [
    {
     "data": {
      "text/plain": [
       "(-1, 0]        8\n",
       "(0, 10]       55\n",
       "(10, 20]      46\n",
       "(20, 30]      25\n",
       "(30, 40]      17\n",
       "(40, 50]      20\n",
       "(50, 100]     17\n",
       "(100, 150]     8\n",
       "(150, 200]     3\n",
       "(200, 500]     2\n",
       "Name: is_missing_name, dtype: int64"
      ]
     },
     "execution_count": 14,
     "metadata": {},
     "output_type": "execute_result"
    }
   ],
   "source": [
    "pd.cut(site_null_df,bins=bins).value_counts().sort_index()"
   ]
  },
  {
   "cell_type": "code",
   "execution_count": 21,
   "metadata": {},
   "outputs": [
    {
     "data": {
      "text/plain": [
       "Index(['Andover Elementary School', 'Ansonia Middle School',\n",
       "       'Bright and Early Children Learning Center', 'CLC Maple Ave',\n",
       "       'CLC William Pitt', 'Calvin Hill', 'Canterbury Elementary School',\n",
       "       'Carelot Children's Center- Chaplin', 'Castle Preschool',\n",
       "       'Child Development Center I - The Ark',\n",
       "       'Child Works-Shiloh Family Life Center',\n",
       "       'Children's Learning Center at Mitchell College',\n",
       "       'Colchester Early Childhood', 'Day Care Center of New Canaan',\n",
       "       'Dunbar Hill School', 'Early Childhood - CT Office of',\n",
       "       'Early Childhood Center', 'East Haven School District',\n",
       "       'Elizabeth Celotto Child Care Center', 'Ellen P. Hubbell School',\n",
       "       'Franklin School', 'Friends Center for Children',\n",
       "       'Gaffney Elementary School', 'Gallup Hill School', 'Gilead Hill School',\n",
       "       'HRA - Marian Heights Early Learning Center', 'Hockanum Pre-K',\n",
       "       'Honey Bear Learning Center', 'Hospital for Special Care',\n",
       "       'Kangaroo's Korner Day Care', 'Knight Hall School',\n",
       "       'Lindsey's House Early Learning Center', 'Lisbon Central School',\n",
       "       'Manchester Preschool Center', 'Meriden YMCA Little Spartans',\n",
       "       'Morning Glory Early Learning Center', 'Mountain View School',\n",
       "       'NEW BRITAIN YMCA - PRESCHOOL', 'North Street School',\n",
       "       'Overbrook Early Learning Center',\n",
       "       'Plainville Early Learning Center, Inc. - S. Canal St.',\n",
       "       'Plymouth Center School', 'Sayles School',\n",
       "       'School For Young Children At St. Joseph's College', 'School Readiness',\n",
       "       'Snow School', 'South Side School', 'Staffordville School',\n",
       "       'Sterling Community School', 'Stratford Academy - Victoria Soto School',\n",
       "       'Team Inc. Shelton School Readiness', 'WCSU Child Care Center',\n",
       "       'Wallingford Community Day Care', 'West Stafford School',\n",
       "       'Westville Community Nursery School', 'Work and Play School',\n",
       "       'YMCA Little Hounds', 'YMCA Little Panthers Preschool',\n",
       "       'YWCA Elmwood Early Learning Center'],\n",
       "      dtype='object', name='AssignedFacilityName')"
      ]
     },
     "execution_count": 21,
     "metadata": {},
     "output_type": "execute_result"
    }
   ],
   "source": [
    "site_null_df[site_null_df.lt(10)].index"
   ]
  },
  {
   "cell_type": "code",
   "execution_count": 13,
   "metadata": {},
   "outputs": [
    {
     "data": {
      "image/png": "[encoded data removed]",
      "text/plain": [
       "<Figure size 432x288 with 1 Axes>"
      ]
     },
     "metadata": {},
     "output_type": "display_data"
    },
    {
     "data": {
      "image/png": "[encoded data removed]",
      "text/plain": [
       "<Figure size 432x288 with 1 Axes>"
      ]
     },
     "metadata": {},
     "output_type": "display_data"
    }
   ],
   "source": [
    "org_null_df.hist(bins=bins)\n",
    "plt.title('Orgs with Null Names')\n",
    "plt.xlabel('Number of Null Names')\n",
    "plt.ylabel('Org Count')\n",
    "plt.show()\n",
    "site_null_df.hist(bins=bins)\n",
    "plt.title('Sites with Null Names')\n",
    "plt.xlabel('Number of Null Names')\n",
    "plt.ylabel('Org Count')\n",
    "plt.show()"
   ]
  }
 ],
 "metadata": {
  "kernelspec": {
   "display_name": "Python 3",
   "language": "python",
   "name": "python3"
  },
  "language_info": {
   "codemirror_mode": {
    "name": "ipython",
    "version": 3
   },
   "file_extension": ".py",
   "mimetype": "text/x-python",
   "name": "python",
   "nbconvert_exporter": "python",
   "pygments_lexer": "ipython3",
   "version": "3.6.8"
  }
 },
 "nbformat": 4,
 "nbformat_minor": 2
}
