{
 "cells": [
  {
   "cell_type": "code",
   "execution_count": 1,
   "metadata": {},
   "outputs": [],
   "source": [
    "%load_ext autoreload\n",
    "%autoreload 2"
   ]
  },
  {
   "cell_type": "code",
   "execution_count": 2,
   "metadata": {},
   "outputs": [],
   "source": [
    "import pandas as pd\n",
    "import numpy as np\n",
    "import matplotlib.pyplot as plt\n",
    "from conversion import ECIS_SUMMER_2020, ALL_SITE_FILE, ECE_ORGS"
   ]
  },
  {
   "cell_type": "code",
   "execution_count": 3,
   "metadata": {},
   "outputs": [],
   "source": [
    "# Column Names\n",
    "NO_NAME_COL = 'is_missing_name'\n",
    "HAS_SASID = 'has_sasid'\n",
    "STUDENT_FACILITY_CODE = 'AssignedFacilityCode'\n",
    "SITE_FACILITY_CODE = 'Facility Code'\n",
    "ORG_NAME = 'Parent Org'\n",
    "SITE_NAME_FACILITY = 'AssignedFacilityName'"
   ]
  },
  {
   "cell_type": "code",
   "execution_count": 30,
   "metadata": {},
   "outputs": [],
   "source": [
    "# Load student data and drop names & DOB to prevent accidental commit of PII\n",
    "student_df = pd.read_csv(ECIS_SUMMER_2020, sep='\\t')\n",
    "student_df = student_df[(student_df['FundingEndDate'] > '2019-07-01') | (student_df['FundingEndDate'].isna())]\n",
    "PII_COLS = ['LastName','SASID','FirstName','MiddleName','Suffix','DateOfBirth','AptStreetNumber', 'StreetAddress1',\n",
    "       'StreetAddress2','BirthCertificateId','IEPStartDate','EnrollmentId']\n",
    "student_df[NO_NAME_COL] = student_df['LastName'].isna()\n",
    "student_df.drop(PII_COLS, axis=1,inplace=True)"
   ]
  },
  {
   "cell_type": "code",
   "execution_count": 31,
   "metadata": {},
   "outputs": [
    {
     "data": {
      "text/plain": [
       "201"
      ]
     },
     "execution_count": 31,
     "metadata": {},
     "output_type": "execute_result"
    }
   ],
   "source": [
    "student_df[STUDENT_FACILITY_CODE].nunique()"
   ]
  },
  {
   "cell_type": "code",
   "execution_count": 13,
   "metadata": {},
   "outputs": [],
   "source": [
    "# Get site list with facility IDs\n",
    "facility_df = pd.read_csv(ALL_SITE_FILE, dtype={SITE_FACILITY_CODE:'Int64'})\n",
    "facility_df.dropna(subset=[SITE_FACILITY_CODE], axis=0, inplace=True)"
   ]
  },
  {
   "cell_type": "code",
   "execution_count": 14,
   "metadata": {},
   "outputs": [],
   "source": [
    "merged_df = student_df.merge(facility_df, how='left', left_on=STUDENT_FACILITY_CODE, right_on=SITE_FACILITY_CODE)\n",
    "merged_df[ORG_NAME].fillna(SITE_NAME_FACILITY, inplace=True)\n",
    "merged_df[SITE_NAME_FACILITY].fillna(SITE_NAME_FACILITY, inplace=True)"
   ]
  },
  {
   "cell_type": "code",
   "execution_count": 15,
   "metadata": {},
   "outputs": [
    {
     "data": {
      "text/plain": [
       "Index(['If SFY21', 'AssignedFacilityCode', 'AssignedFacilityName', 'Gender',\n",
       "       'StateOfBirth', 'TownOfBirth', 'ParentsMaidenName',\n",
       "       'MmrVaccinationDate', 'Ethnicity', 'AmericanIndianOrAlaskaNative',\n",
       "       'Asian', 'BlackOrAfricanAmerican',\n",
       "       'NativeHawaiianOrOtherPacificIslander', 'White', 'WhoChildResidesWith',\n",
       "       'Town', 'State', 'ZipCode', 'NumberOfPeopleInHousehold',\n",
       "       'AnnualFamilyIncome', 'DateFamilyIncomeDocumented',\n",
       "       'IncomeNotDisclosed', 'IEP', 'TransportationProvided',\n",
       "       'FacilityGroupName', 'FacilityEntryDate', 'FacilityExitDate',\n",
       "       'ExitCategory', 'ExitCategoryCode', 'ExitReason', 'ExitReasonCode',\n",
       "       'FundingType', 'FundingTypeCode', 'SpaceType', 'SpaceTypeCode',\n",
       "       'FundingStartDate', 'FundingEndDate', 'HsEhsa', 'HsEhsaCode', 'Oec',\n",
       "       'Care4Kids', 'NoAdditionalFunding', 'DateCreated', 'LastUpdate',\n",
       "       'is_missing_name', 'Site Name', 'Region', 'License ID', 'NAEYC ID',\n",
       "       'Registry ID', 'Facility Code', 'Parent Org', 'data_recieved'],\n",
       "      dtype='object')"
      ]
     },
     "execution_count": 15,
     "metadata": {},
     "output_type": "execute_result"
    }
   ],
   "source": [
    "merged_df.columns"
   ]
  },
  {
   "cell_type": "code",
   "execution_count": 16,
   "metadata": {},
   "outputs": [
    {
     "data": {
      "text/plain": [
       "2019-06     1\n",
       "2019-07     4\n",
       "2019-08     5\n",
       "2019-09    79\n",
       "2020-03     1\n",
       "2020-06     4\n",
       "2020-07     2\n",
       "2020-08     1\n",
       "2020-09    32\n",
       "Name: LastUpdate, dtype: int64"
      ]
     },
     "execution_count": 16,
     "metadata": {},
     "output_type": "execute_result"
    }
   ],
   "source": [
    "pd.to_datetime(merged_df.groupby(by=ORG_NAME)['LastUpdate'].max()).dt.strftime('%Y-%m').value_counts().sort_index()"
   ]
  },
  {
   "cell_type": "code",
   "execution_count": 17,
   "metadata": {},
   "outputs": [],
   "source": [
    "org_null_df = merged_df.groupby(by=ORG_NAME)[NO_NAME_COL].sum()\n",
    "site_null_df = merged_df.groupby(by=SITE_NAME_FACILITY)[NO_NAME_COL].sum()\n",
    "org_null_df.sort_values(ascending=False).to_csv('data/org_null_name.csv')\n",
    "site_null_df.sort_values(ascending=False).to_csv('data/site_null_name.csv')"
   ]
  },
  {
   "cell_type": "code",
   "execution_count": 18,
   "metadata": {},
   "outputs": [],
   "source": [
    "site_df = merged_df.groupby(by=[SITE_NAME_FACILITY, 'Facility Code'])[NO_NAME_COL].sum().reset_index()"
   ]
  },
  {
   "cell_type": "code",
   "execution_count": 19,
   "metadata": {},
   "outputs": [],
   "source": [
    "site_df = merged_df.groupby(by=[SITE_NAME_FACILITY, 'Facility Code']).agg({NO_NAME_COL: 'sum', 'Facility Code': 'count'})\n",
    "site_df = site_df.rename(columns={'Facility Code':'total_records'}).reset_index()"
   ]
  },
  {
   "cell_type": "code",
   "execution_count": 20,
   "metadata": {},
   "outputs": [],
   "source": [
    "ece_df = pd.read_csv(ECE_ORGS, dtype={'facilityCode':str, 'naeycId':str})"
   ]
  },
  {
   "cell_type": "code",
   "execution_count": 21,
   "metadata": {},
   "outputs": [],
   "source": [
    "site_df['Facility Code'] = site_df['Facility Code'].astype(str)"
   ]
  },
  {
   "cell_type": "code",
   "execution_count": 22,
   "metadata": {},
   "outputs": [],
   "source": [
    "site_df.merge(ece_df, how='left', left_on = 'Facility Code', right_on='facilityCode').to_csv('data/ecis_sites.csv', index=False)"
   ]
  },
  {
   "cell_type": "code",
   "execution_count": 23,
   "metadata": {},
   "outputs": [],
   "source": [
    "bins = [-1,0,10,20,30,40,50,100,150,200,500]"
   ]
  },
  {
   "cell_type": "code",
   "execution_count": 24,
   "metadata": {},
   "outputs": [
    {
     "data": {
      "text/plain": [
       "(-1, 0]        6\n",
       "(0, 10]       48\n",
       "(10, 20]      24\n",
       "(20, 30]      14\n",
       "(30, 40]      10\n",
       "(40, 50]       4\n",
       "(50, 100]     15\n",
       "(100, 150]     4\n",
       "(150, 200]     3\n",
       "(200, 500]     1\n",
       "Name: is_missing_name, dtype: int64"
      ]
     },
     "execution_count": 24,
     "metadata": {},
     "output_type": "execute_result"
    }
   ],
   "source": [
    "pd.cut(org_null_df,bins=bins).value_counts().sort_index()"
   ]
  },
  {
   "cell_type": "code",
   "execution_count": 25,
   "metadata": {},
   "outputs": [
    {
     "data": {
      "text/plain": [
       "(-1, 0]        9\n",
       "(0, 10]       73\n",
       "(10, 20]      37\n",
       "(20, 30]      22\n",
       "(30, 40]      12\n",
       "(40, 50]       7\n",
       "(50, 100]     14\n",
       "(100, 150]     3\n",
       "(150, 200]     2\n",
       "(200, 500]     0\n",
       "Name: is_missing_name, dtype: int64"
      ]
     },
     "execution_count": 25,
     "metadata": {},
     "output_type": "execute_result"
    }
   ],
   "source": [
    "pd.cut(site_null_df,bins=bins).value_counts().sort_index()"
   ]
  },
  {
   "cell_type": "code",
   "execution_count": 26,
   "metadata": {},
   "outputs": [
    {
     "data": {
      "text/plain": [
       "Index(['ABCD Inc.-Middlebrooks School Child Care Center',\n",
       "       'ABCD Inc.-West End Childcare Ctr', 'Andover Elementary School',\n",
       "       'Benjamin Franklin - Growing Seeds',\n",
       "       'Bloomfield Early Learning Center Inc.',\n",
       "       'Bouton Street - Children's Playhouse',\n",
       "       'Branford Early Learning Center', 'Bridgeport YMCA/SECC PALS 1',\n",
       "       'Bright and Early Children Learning Center', 'CLC Maple Ave',\n",
       "       'CLC William Pitt', 'CRT - Children's Learning Center', 'Calvin Hill',\n",
       "       'Carelot Children's Center - East Lyme',\n",
       "       'Carelot Children's Center -Killingly',\n",
       "       'Carelot Children's Center Inc - South Main St.',\n",
       "       'Carelot Children's Center- Chaplin', 'Center Congregational Preschool',\n",
       "       'Child Development Center I - The Ark',\n",
       "       'Children's Learning Center at Mitchell College', 'Children's Village',\n",
       "       'Community Service Day Care', 'Day Care Center of New Canaan',\n",
       "       'Dunbar Hill School', 'Early Childhood - CT Office of',\n",
       "       'Early Childhood Center', 'Ellen P. Hubbell School',\n",
       "       'Family Centers -First Steps', 'First Step Preschool',\n",
       "       'Franklin School', 'Friends Center for Children', 'Gallup Hill School',\n",
       "       'Gilead Hill School', 'Global Child',\n",
       "       'HRA - Marian Heights Early Learning Center', 'Hockanum Pre-K',\n",
       "       'Honey Bear Learning Center', 'Hospital for Special Care',\n",
       "       'Indian Neck School', 'Julia Day Nursery Inc.',\n",
       "       'Kangaroo's Korner Day Care', 'Knight Hall School',\n",
       "       'Lindsey's House Early Learning Center', 'Lisbon Central School',\n",
       "       'Mead School', 'Meriden YMCA Little Spartans',\n",
       "       'Montessori School on Edgewood', 'Morning Glory Early Learning Center',\n",
       "       'Morning Glory Infant Toddler Center', 'Mountain View School',\n",
       "       'NEW BRITAIN YMCA - PRESCHOOL', 'Norwalk Community College',\n",
       "       'Plainville Early Learning Center, Inc. - S. Canal St.',\n",
       "       'Plainville Early Learning Center, Inc. - W. Main St.',\n",
       "       'Precious Memories l', 'Precious Memories lll',\n",
       "       'Preschool Learning Ctr Imagination Museum', 'Sayles School',\n",
       "       'School For Young Children At St. Joseph's College', 'School Readiness',\n",
       "       'Snow School', 'South Side School', 'St. Mark's Day Care',\n",
       "       'Staffordville School', 'Stratford Academy - Victoria Soto School',\n",
       "       'Team Inc. Shelton School Readiness',\n",
       "       'The Center for Early Childhood Education at NVCC',\n",
       "       'The Little School House', 'Tutor Time Learning Center',\n",
       "       'Valley YMCA Child Care Center', 'WCSU Child Care Center',\n",
       "       'Wallingford Community Day Care', 'West Stafford School',\n",
       "       'Winsted Area Child Care Center', 'Work and Play School',\n",
       "       'YMCA Little Hounds', 'YMCA Little Panthers Preschool',\n",
       "       'YWCA Elmwood Early Learning Center', 'YWCA-Growing Tree'],\n",
       "      dtype='object', name='AssignedFacilityName')"
      ]
     },
     "execution_count": 26,
     "metadata": {},
     "output_type": "execute_result"
    }
   ],
   "source": [
    "site_null_df[site_null_df.lt(10)].index"
   ]
  },
  {
   "cell_type": "code",
   "execution_count": 27,
   "metadata": {},
   "outputs": [
    {
     "data": {
      "image/png": "[encoded data removed]",
      "text/plain": [
       "<Figure size 432x288 with 1 Axes>"
      ]
     },
     "metadata": {},
     "output_type": "display_data"
    },
    {
     "data": {
      "image/png": "[encoded data removed]",
      "text/plain": [
       "<Figure size 432x288 with 1 Axes>"
      ]
     },
     "metadata": {},
     "output_type": "display_data"
    }
   ],
   "source": [
    "org_null_df.hist(bins=bins)\n",
    "plt.title('Orgs with Null Names')\n",
    "plt.xlabel('Number of Null Names')\n",
    "plt.ylabel('Org Count')\n",
    "plt.show()\n",
    "site_null_df.hist(bins=bins)\n",
    "plt.title('Sites with Null Names')\n",
    "plt.xlabel('Number of Null Names')\n",
    "plt.ylabel('Org Count')\n",
    "plt.show()"
   ]
  }
 ],
 "metadata": {
  "kernelspec": {
   "display_name": "Python 3",
   "language": "python",
   "name": "python3"
  },
  "language_info": {
   "codemirror_mode": {
    "name": "ipython",
    "version": 3
   },
   "file_extension": ".py",
   "mimetype": "text/x-python",
   "name": "python",
   "nbconvert_exporter": "python",
   "pygments_lexer": "ipython3",
   "version": "3.6.8"
  }
 },
 "nbformat": 4,
 "nbformat_minor": 2
}
